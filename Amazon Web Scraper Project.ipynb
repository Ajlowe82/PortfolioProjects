{
 "cells": [
  {
   "cell_type": "code",
   "execution_count": 32,
   "id": "075bc443",
   "metadata": {},
   "outputs": [],
   "source": [
    "# Import libraries\n",
    "\n",
    "from bs4 import BeautifulSoup\n",
    "import requests\n",
    "import smtplib\n",
    "import time\n",
    "import datetime\n",
    "import csv\n",
    "import pandas as pd"
   ]
  },
  {
   "cell_type": "code",
   "execution_count": 22,
   "id": "12941089",
   "metadata": {},
   "outputs": [
    {
     "name": "stdout",
     "output_type": "stream",
     "text": [
      "\n",
      "                    T-Shirt\n",
      "                   \n",
      "\n",
      "                    $19.99\n",
      "                   \n"
     ]
    }
   ],
   "source": [
    "# Connect to the website\n",
    "\n",
    "URL = 'https://www.amazon.com/Dope-Black-Analyst-African-American/dp/B09M6HFQ7V/ref=sr_1_1?crid=UWRITQCAVM6S&customId=B0752XJYNL&customizationToken=MC_Assembly_1%23B0752XJYNL&dib=eyJ2IjoiMSJ9.08EwnmDhKE5B72Gl3VWqRXQbpVZ__SAog-hDpPt9BTlBg3Y_qWJ1kmO_5p2yQzkosOQ55ewRJKUEXFyjD-9E-UPwe_VWo1LOtuD1dnqhiMaVTCrkLd-MqHqV4QfUXj7Y_n7XnIdqORHnYbQUVpnKDC747sH-w75OAMGHzh4DXD4w_kt6QwVh94xIbmlmJ7I4jstwThOV-uPrGsqnMSC5ko7Sw08gsj6Y1gDxLEOvA8Y.aOl7UmREBFMd_T7m16m_a9WWl_yjKFjMMfooE72wu7Q&dib_tag=se&keywords=black+data+analyst&qid=1708870612&sprefix=black+data+analyst%2Caps%2C576&sr=8-1'\n",
    "headers = {\"User-Agent\": \"Mozilla/5.0 (Windows NT 10.0; Win64; x64) AppleWebKit/537.36 (KHTML, like Gecko) Chrome/122.0.0.0 Safari/537.36\", \"Accept-Encoding\": \"gzip, deflate, br, zstd\",  \"Accept\": \"text/html,application/xhtml+xml,application/xml;q=0.9,image/avif,image/webp,image/apng,*/*;q=0.8,application/signed-exchange;v=b3;q=0.7\", \"DNT\":\"1\", \"Connection\":\"close\",  \"Upgrade-Insecure-Requests\": \"1\"}\n",
    "\n",
    "page = requests.get(URL, headers=headers)\n",
    "\n",
    "soup1 = BeautifulSoup(page.content, 'html.parser')\n",
    "soup2 = BeautifulSoup(soup1.prettify(), 'html.parser')\n",
    "\n",
    "\n",
    "title = soup2.find('span', class_='a-size-large product-title-word-break').get_text()\n",
    "price = soup2.find('span', class_='aok-offscreen').get_text()\n",
    "\n",
    "print(title)\n",
    "print(price)\n",
    "\n"
   ]
  },
  {
   "cell_type": "code",
   "execution_count": 25,
   "id": "8f81f9a6",
   "metadata": {},
   "outputs": [
    {
     "name": "stdout",
     "output_type": "stream",
     "text": [
      "T-Shirt\n",
      "19.99\n"
     ]
    }
   ],
   "source": [
    "# Remove blank space and dollar sign from price\n",
    "price = price.strip()[1:]\n",
    "title = title.strip()\n",
    "\n",
    "print(title)\n",
    "print(price)"
   ]
  },
  {
   "cell_type": "code",
   "execution_count": 30,
   "id": "000275a8",
   "metadata": {},
   "outputs": [
    {
     "name": "stdout",
     "output_type": "stream",
     "text": [
      "2024-02-25\n"
     ]
    }
   ],
   "source": [
    "# Create a date stamp for the csv file\n",
    "\n",
    "today = datetime.date.today()\n",
    "\n",
    "print(today)"
   ]
  },
  {
   "cell_type": "code",
   "execution_count": 34,
   "id": "8fb809fc",
   "metadata": {},
   "outputs": [],
   "source": [
    "# Create a csv file and insert data from Amazon\n",
    "\n",
    "header = ['Title', 'Price', 'Date']\n",
    "data = [title, price, today]\n",
    "\n",
    "with open('AmazonWebScraperDataset.csv', 'w', newline='', encoding='UTF8') as f:\n",
    "    writer = csv.writer(f)\n",
    "    writer.writerow(header)\n",
    "    writer.writerow(data)"
   ]
  },
  {
   "cell_type": "code",
   "execution_count": 37,
   "id": "5d88c199",
   "metadata": {
    "scrolled": true
   },
   "outputs": [
    {
     "name": "stdout",
     "output_type": "stream",
     "text": [
      "     Title  Price        Date\n",
      "0  T-Shirt  19.99  2024-02-25\n"
     ]
    }
   ],
   "source": [
    "df = pd.read_csv(r'C:\\Users\\Alana\\AmazonWebScraperDataset.csv')\n",
    "\n",
    "print(df)"
   ]
  },
  {
   "cell_type": "code",
   "execution_count": null,
   "id": "e7b2b6ce",
   "metadata": {},
   "outputs": [],
   "source": [
    "# Appending data to the csv file to create a Price tracker\n",
    "\n",
    "with open('AmazonWebScraperDataset.csv', 'a+', newline='', encoding='UTF8') as f:\n",
    "    writer = csv.writer(f)\n",
    "    writer.writerow(data)"
   ]
  },
  {
   "cell_type": "code",
   "execution_count": null,
   "id": "b21abf44",
   "metadata": {},
   "outputs": [],
   "source": [
    "# Append data to the csv file to create a price tracker with a date stamp that will send an email to me if the price drops below $15\n",
    "\n",
    "def check_price():\n",
    "    URL = 'https://www.amazon.com/Dope-Black-Analyst-African-American/dp/B09M6HFQ7V/ref=sr_1_1?crid=UWRITQCAVM6S&customId=B0752XJYNL&customizationToken=MC_Assembly_1%23B0752XJYNL&dib=eyJ2IjoiMSJ9.08EwnmDhKE5B72Gl3VWqRXQbpVZ__SAog-hDpPt9BTlBg3Y_qWJ1kmO_5p2yQzkosOQ55ewRJKUEXFyjD-9E-UPwe_VWo1LOtuD1dnqhiMaVTCrkLd-MqHqV4QfUXj7Y_n7XnIdqORHnYbQUVpnKDC747sH-w75OAMGHzh4DXD4w_kt6QwVh94xIbmlmJ7I4jstwThOV-uPrGsqnMSC5ko7Sw08gsj6Y1gDxLEOvA8Y.aOl7UmREBFMd_T7m16m_a9WWl_yjKFjMMfooE72wu7Q&dib_tag=se&keywords=black+data+analyst&qid=1708870612&sprefix=black+data+analyst%2Caps%2C576&sr=8-1'\n",
    "    \n",
    "    headers = {\"User-Agent\": \"Mozilla/5.0 (Windows NT 10.0; Win64; x64) AppleWebKit/537.36 (KHTML, like Gecko) Chrome/122.0.0.0 Safari/537.36\", \"Accept-Encoding\": \"gzip, deflate, br, zstd\",  \"Accept\": \"text/html,application/xhtml+xml,application/xml;q=0.9,image/avif,image/webp,image/apng,*/*;q=0.8,application/signed-exchange;v=b3;q=0.7\", \"DNT\":\"1\", \"Connection\":\"close\",  \"Upgrade-Insecure-Requests\": \"1\"}\n",
    "\n",
    "    page = requests.get(URL, headers=headers)\n",
    "\n",
    "    soup1 = BeautifulSoup(page.content, 'html.parser')\n",
    "    \n",
    "    soup2 = BeautifulSoup(soup1.prettify(), 'html.parser')\n",
    "\n",
    "    title = soup2.find('span', class_='a-size-large product-title-word-break').get_text()\n",
    "    \n",
    "    price = soup2.find('span', class_='aok-offscreen').get_text()\n",
    "    \n",
    "    price = price.strip()[1:]\n",
    "    \n",
    "    title = title.strip()\n",
    "    \n",
    "    import datetime\n",
    "    \n",
    "    today = datetime.date.today()\n",
    "    \n",
    "    import csv\n",
    "    \n",
    "    header = ['Title', 'Price', 'Date']\n",
    "\n",
    "    data = [title, price, today]\n",
    "    \n",
    "    with open('AmazonWebScraperDataset.csv', 'a+', newline='', encoding='UTF8') as f:\n",
    "        writer = csv.writer(f)\n",
    "        writer.writerow(data)\n",
    "        \n",
    "    if(price < 14):\n",
    "        send_mail()\n"
   ]
  },
  {
   "cell_type": "code",
   "execution_count": null,
   "id": "06b82c62",
   "metadata": {
    "scrolled": true
   },
   "outputs": [],
   "source": [
    "# Set the time to web scrap the web page\n",
    "\n",
    "while (True):\n",
    "    check_price()\n",
    "    time.sleep(86400)"
   ]
  },
  {
   "cell_type": "code",
   "execution_count": 41,
   "id": "13470a6b",
   "metadata": {},
   "outputs": [
    {
     "name": "stdout",
     "output_type": "stream",
     "text": [
      "                                                Title           Price  \\\n",
      "0                                             T-Shirt           19.99   \n",
      "1                                             T-Shirt           19.99   \n",
      "2   Dope Black Data Analyst African American Job T...  bout this item   \n",
      "3                                             T-Shirt  bout this item   \n",
      "4   Dope Black Data Analyst African American Job T...  bout this item   \n",
      "5                                             T-Shirt  bout this item   \n",
      "6                                             T-Shirt           19.99   \n",
      "7                                             T-Shirt           19.99   \n",
      "8                                             T-Shirt           19.99   \n",
      "9   Dope Black Data Analyst African American Job T...  bout this item   \n",
      "10  Dope Black Data Analyst African American Job T...           19.99   \n",
      "\n",
      "          Date  \n",
      "0   2024-02-25  \n",
      "1   2024-02-25  \n",
      "2   2024-02-25  \n",
      "3   2024-02-25  \n",
      "4   2024-02-25  \n",
      "5   2024-02-25  \n",
      "6   2024-02-25  \n",
      "7   2024-02-25  \n",
      "8   2024-02-25  \n",
      "9   2024-02-25  \n",
      "10  2024-02-25  \n"
     ]
    }
   ],
   "source": [
    "import pandas as pd\n",
    "df = pd.read_csv(r'C:\\Users\\Alana\\AmazonWebScraperDataset.csv')\n",
    "\n",
    "print(df)"
   ]
  },
  {
   "cell_type": "code",
   "execution_count": null,
   "id": "1fed13e8",
   "metadata": {},
   "outputs": [],
   "source": [
    "# Send an email to myself if the price drops below $15\n",
    "\n",
    "def send_mail():\n",
    "    server = smtplib.SMTP_SSL('smtp.gmail.com', 465)\n",
    "    server.ehlo()\n",
    "    #server.starttls()\n",
    "    server.ehlo()\n",
    "    server.login('alanajlowe@gmail.com', 'xxxxxxxxxxxxxx')\n",
    "    \n",
    "    subject = \"The shir you want is below $15!  Now is your chance to buy it!\"\n",
    "    body = \"Alana, this is the moment you have been waiting for.  Now is your chance to pick up the shirt of your dreams.  Don't mess this up!\"\n",
    "    \n",
    "    msg = f\"Subject: {subject}\\n\\n{body}\"\n",
    "    \n",
    "    server.send_mail(\n",
    "        'alanajlowe@gmail.com',\n",
    "        msg\n",
    "    )"
   ]
  },
  {
   "cell_type": "code",
   "execution_count": null,
   "id": "2341c7e5",
   "metadata": {},
   "outputs": [],
   "source": []
  }
 ],
 "metadata": {
  "kernelspec": {
   "display_name": "Python 3 (ipykernel)",
   "language": "python",
   "name": "python3"
  },
  "language_info": {
   "codemirror_mode": {
    "name": "ipython",
    "version": 3
   },
   "file_extension": ".py",
   "mimetype": "text/x-python",
   "name": "python",
   "nbconvert_exporter": "python",
   "pygments_lexer": "ipython3",
   "version": "3.11.5"
  }
 },
 "nbformat": 4,
 "nbformat_minor": 5
}
